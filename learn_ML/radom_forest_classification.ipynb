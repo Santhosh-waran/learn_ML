{
 "cells": [
  {
   "cell_type": "code",
   "execution_count": 3,
   "id": "fc4dcfe4-025a-420a-aeb0-de267731279a",
   "metadata": {},
   "outputs": [],
   "source": [
    "from sklearn.datasets import load_iris\n",
    "from sklearn.ensemble import RandomForestClassifier\n",
    "import numpy as np \n",
    "import pandas as pd"
   ]
  },
  {
   "cell_type": "code",
   "execution_count": 23,
   "id": "47e56837-d33a-4165-812e-4023f0ec0389",
   "metadata": {},
   "outputs": [],
   "source": [
    "df = load_iris()\n",
    "# df.shape\n",
    "# print(df)\n",
    "df = pd.DataFrame(df.data,columns=df.feature_names)\n",
    "# df"
   ]
  },
  {
   "cell_type": "code",
   "execution_count": null,
   "id": "68a8b23c-af54-488b-b462-e9c5c1e15a01",
   "metadata": {},
   "outputs": [],
   "source": []
  }
 ],
 "metadata": {
  "kernelspec": {
   "display_name": "Python 3 (ipykernel)",
   "language": "python",
   "name": "python3"
  },
  "language_info": {
   "codemirror_mode": {
    "name": "ipython",
    "version": 3
   },
   "file_extension": ".py",
   "mimetype": "text/x-python",
   "name": "python",
   "nbconvert_exporter": "python",
   "pygments_lexer": "ipython3",
   "version": "3.12.4"
  }
 },
 "nbformat": 4,
 "nbformat_minor": 5
}
