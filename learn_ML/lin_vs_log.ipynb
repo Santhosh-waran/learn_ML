{
 "cells": [
  {
   "cell_type": "code",
   "execution_count": 14,
   "id": "d8b05ced-caea-4d80-abb6-3b6b8ecdb47b",
   "metadata": {},
   "outputs": [],
   "source": [
    "from sklearn.datasets import make_blobs\n",
    "import numpy as np\n",
    "import matplotlib.pyplot as plt\n",
    "%matplotlib inline\n",
    "import seaborn as sns; sns.set()\n",
    "from sklearn.preprocessing import StandardScaler"
   ]
  },
  {
   "cell_type": "code",
   "execution_count": 1,
   "id": "e0577f74-b21b-4aca-951e-9ccf5968db09",
   "metadata": {},
   "outputs": [
    {
     "ename": "NameError",
     "evalue": "name 'make_blobs' is not defined",
     "output_type": "error",
     "traceback": [
      "\u001b[1;31m---------------------------------------------------------------------------\u001b[0m",
      "\u001b[1;31mNameError\u001b[0m                                 Traceback (most recent call last)",
      "Cell \u001b[1;32mIn[1], line 1\u001b[0m\n\u001b[1;32m----> 1\u001b[0m X, y \u001b[38;5;241m=\u001b[39m make_blobs(n_samples\u001b[38;5;241m=\u001b[39m\u001b[38;5;241m750\u001b[39m, centers\u001b[38;5;241m=\u001b[39m\u001b[38;5;241m4\u001b[39m, n_features\u001b[38;5;241m=\u001b[39m\u001b[38;5;241m2\u001b[39m,\n\u001b[0;32m      2\u001b[0m                   random_state\u001b[38;5;241m=\u001b[39m\u001b[38;5;241m0\u001b[39m)\n\u001b[0;32m      4\u001b[0m \u001b[38;5;66;03m# X = StandardScaler().fit_transform(X)\u001b[39;00m\n\u001b[0;32m      6\u001b[0m plt\u001b[38;5;241m.\u001b[39mscatter(X[:,\u001b[38;5;241m0\u001b[39m],X[:,\u001b[38;5;241m1\u001b[39m])\n",
      "\u001b[1;31mNameError\u001b[0m: name 'make_blobs' is not defined"
     ]
    }
   ],
   "source": [
    "X, y = make_blobs(n_samples=750, centers=4, n_features=2,\n",
    "                  random_state=0)\n",
    "\n",
    "# X = StandardScaler().fit_transform(X)\n",
    "\n",
    "plt.scatter(X[:,0],X[:,1])"
   ]
  },
  {
   "cell_type": "code",
   "execution_count": null,
   "id": "5de60df2-bf67-4af8-8c8b-2bc292d746a2",
   "metadata": {},
   "outputs": [],
   "source": []
  }
 ],
 "metadata": {
  "kernelspec": {
   "display_name": "Python 3 (ipykernel)",
   "language": "python",
   "name": "python3"
  },
  "language_info": {
   "codemirror_mode": {
    "name": "ipython",
    "version": 3
   },
   "file_extension": ".py",
   "mimetype": "text/x-python",
   "name": "python",
   "nbconvert_exporter": "python",
   "pygments_lexer": "ipython3",
   "version": "3.12.4"
  }
 },
 "nbformat": 4,
 "nbformat_minor": 5
}
